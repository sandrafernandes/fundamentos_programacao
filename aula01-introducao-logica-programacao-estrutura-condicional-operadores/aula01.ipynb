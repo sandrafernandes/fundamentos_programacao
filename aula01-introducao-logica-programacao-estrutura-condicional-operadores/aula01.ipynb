{
 "cells": [
  {
   "cell_type": "code",
   "execution_count": 1,
   "id": "7aaf8aea",
   "metadata": {
    "ExecuteTime": {
     "end_time": "2022-08-11T13:24:45.722228Z",
     "start_time": "2022-08-11T13:24:45.707793Z"
    }
   },
   "outputs": [
    {
     "name": "stdout",
     "output_type": "stream",
     "text": [
      "welcome to Fundamentos da Programacao\n"
     ]
    }
   ],
   "source": [
    "print('welcome to Fundamentos da Programacao')"
   ]
  },
  {
   "cell_type": "code",
   "execution_count": null,
   "id": "bc6d7817",
   "metadata": {},
   "outputs": [],
   "source": []
  }
 ],
 "metadata": {
  "kernelspec": {
   "display_name": "Python 3 (ipykernel)",
   "language": "python",
   "name": "python3"
  },
  "language_info": {
   "codemirror_mode": {
    "name": "ipython",
    "version": 3
   },
   "file_extension": ".py",
   "mimetype": "text/x-python",
   "name": "python",
   "nbconvert_exporter": "python",
   "pygments_lexer": "ipython3",
   "version": "3.9.12"
  }
 },
 "nbformat": 4,
 "nbformat_minor": 5
}
